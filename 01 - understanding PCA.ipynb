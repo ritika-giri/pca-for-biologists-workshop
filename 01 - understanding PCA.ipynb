{
 "cells": [
  {
   "cell_type": "markdown",
   "id": "368633c7-3087-4043-b786-f438cf7162e4",
   "metadata": {
    "tags": []
   },
   "source": [
    "# I. Introduction"
   ]
  },
  {
   "cell_type": "markdown",
   "id": "f0acf11b-b8ee-4d98-8a22-71e07ea71667",
   "metadata": {
    "tags": []
   },
   "source": [
    "## Why should I use Principal Component Analysis?\n",
    "PCA can be used for a variety of purposes for example:\n",
    "* To easily __visualize__ your high-dimensional data in 2 or 3 dimensions\n",
    "* To assay the __relatedness__ between biological samples collected from different experiments\n",
    "* To __distinguish batch effects__ and real biological effects in your experiments\n",
    "* Sometimes, to __cluster__ observations belonging to different groups (use with caution).\n",
    "* Sometimes, to __denoise__ your data by removing extremely noisy features that have less information content."
   ]
  },
  {
   "cell_type": "markdown",
   "id": "ab7b4b6f-fdae-401f-893e-27cdb351ed48",
   "metadata": {},
   "source": [
    "<font color=\"crimson\"> <b> <i>EXERCISE : </i></b>Think of a scenario in your own research where PCA might be helpful, and type it in the chat\n",
    "</font> "
   ]
  },
  {
   "cell_type": "markdown",
   "id": "36c93c9e-5cac-4af0-9f63-f1230d6890e0",
   "metadata": {
    "tags": []
   },
   "source": [
    "## What does Principal Component Analysis do?\n",
    "\n",
    "* PCA is dimension reduction tool i.e. if your data has many features, PCA is a principled method to reduce the number of features __while preserving the information content__.\n",
    "* Information is preserved by understanding the correlation and covariance between the different features and __removing redudant information__. For example, if features $f_1$ and $f_2$ are 100% correlated then the entire dataset can be represented by the information in feature $f_1$ or $f_2$ alone.\n",
    "* Fundamentally, PCA is a __projection__ of the original data into a new, reduced feature-space."
   ]
  },
  {
   "cell_type": "markdown",
   "id": "2661f979-e913-46aa-b6fa-99a7370b39fa",
   "metadata": {},
   "source": [
    "<font color=\"crimson\"> <b> <i>EXERCISE : </i></b>What does \"projection\" mean? Type in the chat - what is the projected value of $\\vec{A}$ on $\\vec{B}$ ?\n",
    "</font>"
   ]
  },
  {
   "cell_type": "code",
   "execution_count": 2,
   "id": "2f9e3142-b230-45cd-ab77-aba7a0bf0eda",
   "metadata": {},
   "outputs": [
    {
     "data": {
      "text/html": [
       "<iframe width=\"560\" height=\"315\" src=\"https://www.youtube.com/embed/ABy-pimA4wU?rel=0&amp;controls=0&amp;showinfo=0\" frameborder=\"0\" allowfullscreen></iframe>"
      ],
      "text/plain": [
       "<IPython.core.display.HTML object>"
      ]
     },
     "execution_count": 2,
     "metadata": {},
     "output_type": "execute_result"
    }
   ],
   "source": [
    "from IPython.display import HTML\n",
    "\n",
    "# Youtube\n",
    "HTML('<iframe width=\"560\" height=\"315\" src=\"https://www.youtube.com/embed/ABy-pimA4wU?rel=0&amp;controls=0&amp;showinfo=0\" frameborder=\"0\" allowfullscreen></iframe>')"
   ]
  },
  {
   "attachments": {
    "671ad2f1-0e71-4e9b-ae8f-4847e5995c09.png": {
     "image/png": "[encoded data removed]"
    }
   },
   "cell_type": "markdown",
   "id": "43960e73-db99-4c55-9b24-f0dd2d6e7a76",
   "metadata": {},
   "source": [
    "![image.png](attachment:671ad2f1-0e71-4e9b-ae8f-4847e5995c09.png)"
   ]
  },
  {
   "cell_type": "markdown",
   "id": "30fd6395-7797-40d6-aaea-547433f8e38c",
   "metadata": {
    "tags": []
   },
   "source": [
    "# II. How does PCA work?"
   ]
  },
  {
   "cell_type": "markdown",
   "id": "8c8d94b3-98c8-434e-ab9c-d483983406ab",
   "metadata": {},
   "source": [
    "PCA aims to find new axes for the data, such that __variance is  maximized__ along the axes. <br>\n",
    "This is mathematically equivalent to __minimizing the distance__ of all the points from the new axes.<br>"
   ]
  },
  {
   "cell_type": "markdown",
   "id": "97d178a9-b523-4920-9b29-63b8989d6e4f",
   "metadata": {},
   "source": [
    "![pcagifurl](https://i.stack.imgur.com/lNHqt.gif)"
   ]
  },
  {
   "cell_type": "markdown",
   "id": "f7d72947-5007-44ce-a3f6-52c39d954b6f",
   "metadata": {},
   "source": [
    "Once, this axis is found, it __projects__ the original axes onto the new axis.<br>\n",
    "After the first principal component axis, PC1, is found, the next principal component axis, PC2, is created __orthogonal__ (i.e. correlation = 0) to PC1, such that PC2 now is the axis with the second-highest variance along it."
   ]
  },
  {
   "cell_type": "markdown",
   "id": "af196d30-d89d-4346-a3c9-5d490c1228a3",
   "metadata": {},
   "source": [
    "# <font color=\"#900C3F\">Google Colab users only</font> \n",
    "Run the following commands to import datasets into your Google Colab environment"
   ]
  },
  {
   "cell_type": "code",
   "execution_count": null,
   "id": "17e5b695-2f6c-4658-be91-fb10f6b3e648",
   "metadata": {},
   "outputs": [],
   "source": [
    "!wget https://raw.githubusercontent.com/ritika-giri/pca-for-biologists-workshop/main/plant_data.csv"
   ]
  },
  {
   "cell_type": "markdown",
   "id": "c2a2027d-d1ce-4d69-bca1-666f2a6eb33f",
   "metadata": {},
   "source": [
    "# III. Let's try an intuitive example\n",
    "We are plant biologists. We have some plant-feature measurements for different species. <br>We want to  easily __visualize__ our data in 2D to see which 2 species are most __similar__ to each other."
   ]
  },
  {
   "cell_type": "code",
   "execution_count": 1,
   "id": "a1bc92ca-e549-41f1-a76e-474131b67ea5",
   "metadata": {},
   "outputs": [],
   "source": [
    "# First, let's set up our enviroment\n",
    "# Load packages\n",
    "import numpy as np\n",
    "import pandas as pd\n",
    "import matplotlib.pyplot as plt\n",
    "import seaborn  as sns\n",
    "\n",
    "# figure settings\n",
    "sns.set_context('notebook', font_scale=1.2)"
   ]
  },
  {
   "cell_type": "code",
   "execution_count": 2,
   "id": "4d86dc96-caf2-48ea-9e7e-32303d9fe4b2",
   "metadata": {},
   "outputs": [],
   "source": [
    "# Import the dataset\n",
    "plant_data = pd.read_csv('plant_data.csv', index_col=None)"
   ]
  },
  {
   "cell_type": "markdown",
   "id": "4822e8f5-b3b1-43ec-8888-d48cb5b648b2",
   "metadata": {},
   "source": [
    "<font color=\"crimson\"> <b> <i>EXERCISE : \n",
    "    </i></b> <ul>\n",
    "    <li>Explore your dataset, how many plant-features are there?</li>\n",
    "    <li>How many observations? </li>\n",
    "    <li>How many different species are present?</li>\n",
    "    </ul>\n",
    "</font> "
   ]
  },
  {
   "cell_type": "code",
   "execution_count": 4,
   "id": "814218c0-d837-486a-9bbe-ccf95a706d43",
   "metadata": {},
   "outputs": [],
   "source": [
    "# how many plant-features are there?\n"
   ]
  },
  {
   "cell_type": "code",
   "execution_count": 13,
   "id": "fba9f881-9211-4a63-a489-4d17f6508864",
   "metadata": {},
   "outputs": [],
   "source": [
    "# how many observations are in your dataset?\n"
   ]
  },
  {
   "cell_type": "code",
   "execution_count": 14,
   "id": "652bdd2a-f1f7-4f3b-a262-987a7b113daf",
   "metadata": {},
   "outputs": [],
   "source": [
    "# how many unique species (target column) are present in this data?\n"
   ]
  },
  {
   "cell_type": "markdown",
   "id": "02f7f346-10e2-47da-b41d-f7d3f91ae59c",
   "metadata": {},
   "source": [
    "## * What is the structure of the data?\n",
    "Remember PCA relies on the __covariance__ or __correlation__ between features, and reduces features by removing redudant information."
   ]
  },
  {
   "cell_type": "code",
   "execution_count": 17,
   "id": "f835b9be-9c0e-401a-b606-be5988e911f8",
   "metadata": {},
   "outputs": [
    {
     "data": {
      "text/html": [
       "<div>\n",
       "<style scoped>\n",
       "    .dataframe tbody tr th:only-of-type {\n",
       "        vertical-align: middle;\n",
       "    }\n",
       "\n",
       "    .dataframe tbody tr th {\n",
       "        vertical-align: top;\n",
       "    }\n",
       "\n",
       "    .dataframe thead th {\n",
       "        text-align: right;\n",
       "    }\n",
       "</style>\n",
       "<table border=\"1\" class=\"dataframe\">\n",
       "  <thead>\n",
       "    <tr style=\"text-align: right;\">\n",
       "      <th></th>\n",
       "      <th>sepal length (cm)</th>\n",
       "      <th>sepal width (cm)</th>\n",
       "      <th>petal length (cm)</th>\n",
       "      <th>petal width (cm)</th>\n",
       "    </tr>\n",
       "  </thead>\n",
       "  <tbody>\n",
       "    <tr>\n",
       "      <th>sepal length (cm)</th>\n",
       "      <td>1.000000</td>\n",
       "      <td>-0.117570</td>\n",
       "      <td>0.871754</td>\n",
       "      <td>0.817941</td>\n",
       "    </tr>\n",
       "    <tr>\n",
       "      <th>sepal width (cm)</th>\n",
       "      <td>-0.117570</td>\n",
       "      <td>1.000000</td>\n",
       "      <td>-0.428440</td>\n",
       "      <td>-0.366126</td>\n",
       "    </tr>\n",
       "    <tr>\n",
       "      <th>petal length (cm)</th>\n",
       "      <td>0.871754</td>\n",
       "      <td>-0.428440</td>\n",
       "      <td>1.000000</td>\n",
       "      <td>0.962865</td>\n",
       "    </tr>\n",
       "    <tr>\n",
       "      <th>petal width (cm)</th>\n",
       "      <td>0.817941</td>\n",
       "      <td>-0.366126</td>\n",
       "      <td>0.962865</td>\n",
       "      <td>1.000000</td>\n",
       "    </tr>\n",
       "  </tbody>\n",
       "</table>\n",
       "</div>"
      ],
      "text/plain": [
       "                   sepal length (cm)  sepal width (cm)  petal length (cm)  \\\n",
       "sepal length (cm)           1.000000         -0.117570           0.871754   \n",
       "sepal width (cm)           -0.117570          1.000000          -0.428440   \n",
       "petal length (cm)           0.871754         -0.428440           1.000000   \n",
       "petal width (cm)            0.817941         -0.366126           0.962865   \n",
       "\n",
       "                   petal width (cm)  \n",
       "sepal length (cm)          0.817941  \n",
       "sepal width (cm)          -0.366126  \n",
       "petal length (cm)          0.962865  \n",
       "petal width (cm)           1.000000  "
      ]
     },
     "execution_count": 17,
     "metadata": {},
     "output_type": "execute_result"
    }
   ],
   "source": [
    "# Correlation between features.\n",
    "plant_data.corr()"
   ]
  },
  {
   "cell_type": "markdown",
   "id": "2a6a0242-8a48-444c-829a-75e10e7698e3",
   "metadata": {},
   "source": [
    "<font color=\"crimson\"> <b> <i>EXERCISE :  </i></b>\n",
    "    Type in the chat - which 2 features show the highest correlation?\n",
    "</font> "
   ]
  },
  {
   "cell_type": "markdown",
   "id": "df58b90e-ad1e-4633-9cb9-2e7f21aa966a",
   "metadata": {},
   "source": [
    "## * Let's perform PCA!"
   ]
  },
  {
   "cell_type": "markdown",
   "id": "0c1eee98-971e-4a83-adb3-0e9647d04397",
   "metadata": {},
   "source": [
    "### I. Import the PCA class object from sklearn"
   ]
  },
  {
   "cell_type": "code",
   "execution_count": 18,
   "id": "20174819-0953-49e7-b8c5-d599d0fc9b5f",
   "metadata": {},
   "outputs": [],
   "source": [
    "from sklearn.decomposition import PCA"
   ]
  },
  {
   "cell_type": "markdown",
   "id": "3c15aede-d70d-41c9-b584-75de90d887c3",
   "metadata": {},
   "source": [
    "### II. Initialize PCA object with desired dimensions\n",
    "Remember, the desired dimensions can only be equal to or less than the original dimensions."
   ]
  },
  {
   "cell_type": "code",
   "execution_count": 20,
   "id": "25140b6a-1c4b-49fa-bd89-04ba78b5cc0b",
   "metadata": {},
   "outputs": [],
   "source": [
    "pca = PCA(n_components=2)"
   ]
  },
  {
   "cell_type": "markdown",
   "id": "d5bb8718-5685-4e56-9339-a5fde67f855a",
   "metadata": {},
   "source": [
    "Here, `pca` is the object you are creating and initializing, while `PCA` is the empty/base object class imported from sklearn.<br>\n",
    "Always read the documentation - https://scikit-learn.org/stable/modules/generated/sklearn.decomposition.PCA.html"
   ]
  },
  {
   "cell_type": "markdown",
   "id": "cf57481c-e78e-4050-8821-30a905e51758",
   "metadata": {},
   "source": [
    "### III. Project the data into PCA space"
   ]
  },
  {
   "cell_type": "markdown",
   "id": "a2b2b6f3-4ddb-4b05-a5b0-8b30e2e8fd7b",
   "metadata": {},
   "source": [
    "Note, you are not using the \"target\" values in the data, only the feature measurements to construct the PCA projection."
   ]
  },
  {
   "cell_type": "code",
   "execution_count": 25,
   "id": "6c7d1244-f081-4493-80bf-915912fe7929",
   "metadata": {},
   "outputs": [],
   "source": [
    "# select the data to be used for PCA\n",
    "data = plant_data[['sepal length (cm)', 'sepal width (cm)', 'petal length (cm)','petal width (cm)']]"
   ]
  },
  {
   "cell_type": "code",
   "execution_count": 26,
   "id": "9c7666f8-a94b-4b68-9ee1-b93a4c585e71",
   "metadata": {},
   "outputs": [],
   "source": [
    "# perform PCA projection\n",
    "projected_data = pca.fit_transform(data)"
   ]
  },
  {
   "cell_type": "code",
   "execution_count": 27,
   "id": "ec4c75e9-c51f-44b4-8aa5-c73d39c67755",
   "metadata": {},
   "outputs": [
    {
     "data": {
      "text/html": [
       "<div>\n",
       "<style scoped>\n",
       "    .dataframe tbody tr th:only-of-type {\n",
       "        vertical-align: middle;\n",
       "    }\n",
       "\n",
       "    .dataframe tbody tr th {\n",
       "        vertical-align: top;\n",
       "    }\n",
       "\n",
       "    .dataframe thead th {\n",
       "        text-align: right;\n",
       "    }\n",
       "</style>\n",
       "<table border=\"1\" class=\"dataframe\">\n",
       "  <thead>\n",
       "    <tr style=\"text-align: right;\">\n",
       "      <th></th>\n",
       "      <th>PC1</th>\n",
       "      <th>PC2</th>\n",
       "    </tr>\n",
       "  </thead>\n",
       "  <tbody>\n",
       "    <tr>\n",
       "      <th>0</th>\n",
       "      <td>-2.684126</td>\n",
       "      <td>0.319397</td>\n",
       "    </tr>\n",
       "    <tr>\n",
       "      <th>1</th>\n",
       "      <td>-2.714142</td>\n",
       "      <td>-0.177001</td>\n",
       "    </tr>\n",
       "    <tr>\n",
       "      <th>2</th>\n",
       "      <td>-2.888991</td>\n",
       "      <td>-0.144949</td>\n",
       "    </tr>\n",
       "    <tr>\n",
       "      <th>3</th>\n",
       "      <td>-2.745343</td>\n",
       "      <td>-0.318299</td>\n",
       "    </tr>\n",
       "    <tr>\n",
       "      <th>4</th>\n",
       "      <td>-2.728717</td>\n",
       "      <td>0.326755</td>\n",
       "    </tr>\n",
       "  </tbody>\n",
       "</table>\n",
       "</div>"
      ],
      "text/plain": [
       "        PC1       PC2\n",
       "0 -2.684126  0.319397\n",
       "1 -2.714142 -0.177001\n",
       "2 -2.888991 -0.144949\n",
       "3 -2.745343 -0.318299\n",
       "4 -2.728717  0.326755"
      ]
     },
     "execution_count": 27,
     "metadata": {},
     "output_type": "execute_result"
    }
   ],
   "source": [
    "# create a dataframe for ease of data manipulation\n",
    "projected_df = pd.DataFrame(data = projected_data, \n",
    "                            columns=['PC1', 'PC2']) # these are the principal component axes\n",
    "projected_df.head()"
   ]
  },
  {
   "cell_type": "markdown",
   "id": "1907b5a7-0dbd-4fe6-a8d4-ae484d0797dd",
   "metadata": {},
   "source": [
    "These values look nothing like what we started with!!!<br>\n",
    "How am I supposed to __interpret__ the projected dataset? <br>\n",
    "What are the units of these new axes??"
   ]
  },
  {
   "cell_type": "markdown",
   "id": "fbf32f7d-a0b2-4662-b448-6b0ff22c084c",
   "metadata": {},
   "source": [
    "## * Making sense of the results"
   ]
  },
  {
   "cell_type": "markdown",
   "id": "4ad40357-fd2c-4b03-868e-487c76934228",
   "metadata": {},
   "source": [
    "_Let's go back to our research question:_ <br> We want to  easily __visualize__ our data in 2D to see which 2 species are most __similar__ to each other."
   ]
  },
  {
   "cell_type": "markdown",
   "id": "e7e11dcb-f760-4b10-ad99-93b1033752ca",
   "metadata": {},
   "source": [
    "### I. Visualizing the PCA space"
   ]
  },
  {
   "cell_type": "code",
   "execution_count": 28,
   "id": "a5c88094-c055-464f-b868-7e513908be4b",
   "metadata": {},
   "outputs": [
    {
     "data": {
      "image/png": "[encoded data removed]",
      "text/plain": [
       "<Figure size 432x288 with 1 Axes>"
      ]
     },
     "metadata": {
      "needs_background": "light"
     },
     "output_type": "display_data"
    }
   ],
   "source": [
    "# Plot the data like you would a regular dataframe\n",
    "plt.figure()\n",
    "sns.scatterplot(data=projected_df, x='PC1', y='PC2')\n",
    "plt.show()"
   ]
  },
  {
   "cell_type": "markdown",
   "id": "6552c1a2-bdb4-4e3c-9478-c200a461d4f4",
   "metadata": {},
   "source": [
    "Columns 'PC1' and 'PC2' can be thought of as new features of the dataset that you have extracted. Each PC is essentially a __linear combination__ of the original features.\n",
    "\n",
    "For example, if we have features $f_1$ and $f_2$ in a dataset, and decide to create a new composite feature $F = 2f_1 - 5f_2$, then feature $F$ can be said to be a linear combination of the original features $f_1$ and $f_2$."
   ]
  },
  {
   "cell_type": "markdown",
   "id": "95ca7427-bed0-41f9-bbc7-5bacebb88ac8",
   "metadata": {},
   "source": [
    "### II. Detecting similar samples"
   ]
  },
  {
   "cell_type": "markdown",
   "id": "8b27da50-7001-47dd-9804-711225ac6eaa",
   "metadata": {},
   "source": [
    "Since `PC1` and `PC2` are linear combinations of original features, the units of `PC1` and `PC2` are also linear combinations of the original feature units. However, saying \"3 kgs and kms\" makes no sense, therefore we call the units arbitrary, represented as (a.u.) in scientific graphs."
   ]
  },
  {
   "cell_type": "markdown",
   "id": "1893f3ef-7511-41e7-9d92-0c959192ca83",
   "metadata": {},
   "source": [
    "Even though the units are arbitrary, __points that are closer together in PCA space are more related to each other__. This is because, if they were close together in the original data space, the PCA transformation treats every point identically (linearly), and therefore they will still be closer together in the projected PCA space."
   ]
  },
  {
   "cell_type": "markdown",
   "id": "b58d50d3-0f1d-4244-8662-5de0c3fa7a3a",
   "metadata": {},
   "source": [
    "<font color=\"crimson\"> <b> <i>EXERCISE :  </i></b>\n",
    "    Plot the data above, but now color coded for different species. <br>Based on the plot, type in the chat - which 2 species are most similar to each other?\n",
    "</font> "
   ]
  },
  {
   "cell_type": "code",
   "execution_count": 57,
   "id": "9bc14d5c-a70d-451e-b21f-704e4173512b",
   "metadata": {},
   "outputs": [
    {
     "data": {
      "image/png": "[encoded data removed]",
      "text/plain": [
       "<Figure size 432x288 with 1 Axes>"
      ]
     },
     "metadata": {
      "needs_background": "light"
     },
     "output_type": "display_data"
    }
   ],
   "source": [
    "# Let's add labels to each of the datapoints according to the species it belongs to\n",
    "# fill in the hue variable with the target column from plant_data\n",
    "plt.figure()\n",
    "sns.scatterplot(data=projected_df, x='PC1', y='PC2', \n",
    "                palette='Set1', hue = .....)  # hint: replace ..... with plant_data['target']\n",
    "plt.legend(bbox_to_anchor=(-0.25,1)) # reposition the legend\n",
    "plt.title('PCA space for plant dataset', y =1.05)\n",
    "plt.show()"
   ]
  },
  {
   "cell_type": "markdown",
   "id": "20357240-e953-4ba6-9782-0eb8faa69068",
   "metadata": {},
   "source": [
    "Distance in this PCA space can be understood just like you would understand distance in any linear 2D graph."
   ]
  },
  {
   "cell_type": "code",
   "execution_count": 100,
   "id": "205c13eb-8f09-4dd7-8ca3-31c185c20b0d",
   "metadata": {},
   "outputs": [],
   "source": [
    "# Re-plot the data to make the axes units equal relative to each other\n",
    "# copy the plot code above and add -- plt.axis('equal') before plt.show()\n",
    "\n"
   ]
  },
  {
   "cell_type": "markdown",
   "id": "28904717-61fb-4af2-bb0e-d784e92f8cbc",
   "metadata": {
    "tags": []
   },
   "source": [
    "### III. Interpreting the components"
   ]
  },
  {
   "cell_type": "markdown",
   "id": "e675b4e1-8ae2-478e-95e7-0252bbc639ad",
   "metadata": {},
   "source": [
    "So we got some fancy new features, but how can we understand them? <br>For example, what does PC1 represent? How is it different from PC2?"
   ]
  },
  {
   "cell_type": "markdown",
   "id": "14697778-b297-4bb6-a65d-6271d5f0462b",
   "metadata": {},
   "source": [
    "The `pca` object we initialized and fit stores a lot of important information. <br>\n",
    "Again, documentation is key - read the attributes section in the documentation <br>- https://scikit-learn.org/stable/modules/generated/sklearn.decomposition.PCA.html"
   ]
  },
  {
   "cell_type": "markdown",
   "id": "dc55f955-f372-419d-aa00-84c0e5441f81",
   "metadata": {},
   "source": [
    "As explained before, each PC is a __linear combination__ of the original features. \n",
    "$$ PC1 = c_{11}.f_1 + c_{12}.f_2 + c_{13}.f_3 + c_{14}.f_4 $$\n",
    "$$ PC2 = c_{21}.f_1 + c_{22}.f_2 + c_{23}.f_3 + c_{24}.f_4 $$\n",
    "\n",
    "The attribute `pca.components_` stores the linear coefficient values $c_n$ for each original feature for each PC. <br>\n",
    "The attribute `pca.feature_names_in_` stores the names of the original features. "
   ]
  },
  {
   "cell_type": "markdown",
   "id": "f67f7cd0-1239-47ab-ba09-62714b35a2a4",
   "metadata": {},
   "source": [
    "<font color=\"crimson\"> <b> <i>EXERCISE :  </i></b>\n",
    "    Print the values of the coefficients, and the names of the original data features used for PCA.\n",
    "</font> "
   ]
  },
  {
   "cell_type": "code",
   "execution_count": 49,
   "id": "5dcfd650-5bd5-4745-8a4b-f4487adff9da",
   "metadata": {},
   "outputs": [],
   "source": [
    "# print the values of the coefficients\n"
   ]
  },
  {
   "cell_type": "code",
   "execution_count": 50,
   "id": "a9d58ee8-f5b0-4fc7-8ce5-b4419ed99397",
   "metadata": {},
   "outputs": [],
   "source": [
    "# print the names of the original features\n"
   ]
  },
  {
   "cell_type": "code",
   "execution_count": 52,
   "id": "320637dc-281c-4466-9359-d99917059650",
   "metadata": {},
   "outputs": [
    {
     "data": {
      "image/png": "[encoded data removed]",
      "text/plain": [
       "<Figure size 720x360 with 2 Axes>"
      ]
     },
     "metadata": {
      "needs_background": "light"
     },
     "output_type": "display_data"
    }
   ],
   "source": [
    "# Let's visualize the coefficients and features together - \n",
    "plt.figure(figsize=(10,5))\n",
    "sns.heatmap(pca.components_, \n",
    "            square=True, annot=True,             # add coefficient values in plot with annot\n",
    "            xticklabels=pca.feature_names_in_,   # label original feature names\n",
    "            yticklabels=['PC1', 'PC2'],          # PC number\n",
    "            cmap='seismic',                      # colorscale\n",
    "            vmin=-1, vmax=1)                     # min,max values of colorscale\n",
    "plt.title('PCA Loading plot', y=1.05)\n",
    "plt.show()"
   ]
  },
  {
   "cell_type": "markdown",
   "id": "ad8d77bf-01dd-459f-9899-e792346b4c66",
   "metadata": {},
   "source": [
    "From the above plot we understand :  \n",
    "$$ PC1 = 0.36 f_1 - 0.085 f_2 + 0.86 f_3 + 0.36 f_4 $$\n",
    "$$ PC2 = 0.65 f_1 + 0.73 f_2 - 0.17 f_3 - 0.075 f_4 $$\n",
    "<font size=2>** Not exactly, PC coordinates are mean-centered, meaning that a constant value (equal to the mean) will be subtracted from all datapoints. However, for simplicity of understanding, we can assume the mean is 0.</font>"
   ]
  },
  {
   "cell_type": "markdown",
   "id": "6893aabe-5884-4d80-8a80-9425d285be02",
   "metadata": {},
   "source": [
    "<font color=\"crimson\"> <b> <i>EXERCISE :  </i></b>\n",
    "    Type in the chat, which feature has the biggest contribution to PC2\n",
    "</font> "
   ]
  },
  {
   "cell_type": "markdown",
   "id": "37916fda-331d-4f69-8187-c347872f6791",
   "metadata": {},
   "source": [
    "<font color=\"crimson\"> <b> <i>EXERCISE :  </i></b>\n",
    "    If $f_1$ has a coefficient value 0.4, and $f_2$ has a coefficient value -0.6 for a given PC, which feature has a higher impact on that PC? <br>\n",
    "    Remember, the original features are being projected onto the PCs.\n",
    "</font> "
   ]
  },
  {
   "attachments": {
    "671ad2f1-0e71-4e9b-ae8f-4847e5995c09.png": {
     "image/png": "[encoded data removed]"
    }
   },
   "cell_type": "markdown",
   "id": "3f45c7b5-5afc-45bd-ba8f-0436aac6f949",
   "metadata": {},
   "source": [
    "![image.png](attachment:671ad2f1-0e71-4e9b-ae8f-4847e5995c09.png)"
   ]
  },
  {
   "cell_type": "markdown",
   "id": "2ffb20b1-1f8e-4c29-bff1-33e939847864",
   "metadata": {},
   "source": [
    "<font color=\"crimson\"> <b> <i>EXERCISE :  </i></b>\n",
    "     I run PCA twice on my dataset and get the following results for PC1:\n",
    "$$ PC1 = 0.36 f_1 - 0.085 f_2 + 0.86 f_3 + 0.36 f_4 $$\n",
    "$$ PC1 = -0.36 f_1 + 0.085 f_2 - 0.86 f_3 - 0.36 f_4 $$\n",
    "Are these two results the same? What is the difference?\n",
    "</font>"
   ]
  },
  {
   "cell_type": "markdown",
   "id": "871bbd18-f3bc-4aa1-92d7-b4509007cbbd",
   "metadata": {},
   "source": [
    "### IV. Diagnosing a \"good\" PCA result"
   ]
  },
  {
   "cell_type": "markdown",
   "id": "c7875b4c-cadc-4b5b-ad35-638785a8b6b0",
   "metadata": {},
   "source": [
    "So far, we understood what the PC components mean. But how do we assess if the information in the original data has been  faithfully reatined in the new PCA space?"
   ]
  },
  {
   "cell_type": "markdown",
   "id": "01de99cd-60d5-4c0f-9c41-97331d0df906",
   "metadata": {},
   "source": [
    "<font color=\"crimson\"> <b> <i>EXERCISE :  </i></b>\n",
    "    Type in the chat, how you might assess if a linear regression model is doing a good job of predicting the outcome `y` from the set of input features `X`\n",
    "</font> "
   ]
  },
  {
   "cell_type": "markdown",
   "id": "803cd88f-d55f-4e4b-b8bc-6d623516118b",
   "metadata": {},
   "source": [
    "Just like $R^2$ provides a metric for assessing linear models, the attribute `pca.explained_variance_ratio_` provides a metric for how much information is retained in each PC.<br>\n",
    "Adding up the explained variance for each component provides a reasonable idea of the total information retained by the pca model."
   ]
  },
  {
   "cell_type": "code",
   "execution_count": 83,
   "id": "238c558b-9f91-4cf9-af2d-b018b775f6cc",
   "metadata": {},
   "outputs": [
    {
     "name": "stdout",
     "output_type": "stream",
     "text": [
      "[0.92461872 0.05306648]\n"
     ]
    }
   ],
   "source": [
    "print(pca.explained_variance_ratio_)"
   ]
  },
  {
   "cell_type": "code",
   "execution_count": 82,
   "id": "2c260d6d-1a8b-4f0a-be42-160d5e125b07",
   "metadata": {},
   "outputs": [
    {
     "name": "stdout",
     "output_type": "stream",
     "text": [
      "0.977685206318795\n"
     ]
    }
   ],
   "source": [
    "print(sum(pca.explained_variance_ratio_))"
   ]
  },
  {
   "cell_type": "code",
   "execution_count": 90,
   "id": "7caf8570-6b5d-46f7-b7c9-8c4bb112d610",
   "metadata": {},
   "outputs": [
    {
     "data": {
      "image/png": "[encoded data removed]",
      "text/plain": [
       "<Figure size 432x288 with 1 Axes>"
      ]
     },
     "metadata": {
      "needs_background": "light"
     },
     "output_type": "display_data"
    }
   ],
   "source": [
    "# barplot of the explained variance ratios\n",
    "plt.figure()\n",
    "plt.bar(x = projected_df.columns, \n",
    "        height = pca.explained_variance_ratio_,\n",
    "       color = 'lightgrey')\n",
    "plt.plot(projected_df.columns, np.cumsum(pca.explained_variance_ratio_), 'r-o', linewidth=1)\n",
    "plt.ylim([0,1.05])\n",
    "plt.ylabel('Explained Variance Ratio');\n",
    "plt.title('Explained Variance', y=1.05)\n",
    "plt.show()"
   ]
  },
  {
   "cell_type": "markdown",
   "id": "d0110cfa-616f-404f-89b0-a24549f8f2fb",
   "metadata": {},
   "source": [
    "* The first principal component is the linear combination of original features that accounts for the greatest possible variance.\n",
    "* Each subsequent principal component is the linear combination of the original features that has the greatest possible variance _and_ is uncorrelated with the previously defined component.\n",
    "* PC axes are uncorrelated with each other - this is by design to minimize redundancy between PCs."
   ]
  },
  {
   "cell_type": "markdown",
   "id": "51382a2a-b293-4be4-8951-8fe9d842e903",
   "metadata": {},
   "source": [
    "<font color=\"crimson\"> <b> <i>EXERCISE :  </i></b>\n",
    "    Compare the correlation matrix of the original dataframe and the projected dataframe using the `df.corr()` function\n",
    "</font> "
   ]
  },
  {
   "cell_type": "code",
   "execution_count": null,
   "id": "cdd0ccba-c66d-4a21-995b-6cb8537427c6",
   "metadata": {},
   "outputs": [],
   "source": [
    "# original plant data correlation matrix\n"
   ]
  },
  {
   "cell_type": "code",
   "execution_count": null,
   "id": "9362c628-77d2-45fe-b4f9-34215f44068b",
   "metadata": {},
   "outputs": [],
   "source": [
    "# projected data correlation matrix\n"
   ]
  }
 ],
 "metadata": {
  "kernelspec": {
   "display_name": "Python 3 (ipykernel)",
   "language": "python",
   "name": "python3"
  },
  "language_info": {
   "codemirror_mode": {
    "name": "ipython",
    "version": 3
   },
   "file_extension": ".py",
   "mimetype": "text/x-python",
   "name": "python",
   "nbconvert_exporter": "python",
   "pygments_lexer": "ipython3",
   "version": "3.8.0"
  },
  "toc-autonumbering": false
 },
 "nbformat": 4,
 "nbformat_minor": 5
}
