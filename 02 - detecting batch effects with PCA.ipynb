{
 "cells": [
  {
   "cell_type": "markdown",
   "id": "f09315a6-c3ed-49ac-8fac-cf2e2862e9a0",
   "metadata": {},
   "source": [
    "## I. Problem statement\n",
    "__Context__<br>\n",
    "You are a neuroscientist interested in understanding how gene expression in the brain is different from gene expression in other tissues. In order to test this you assayed the expression of thousands of human genes in 2 sets of RNA samples:\n",
    "1. UHR : Universal Human Reference RNA\n",
    "2. HBR : Human Brain Reference RNA\n",
    "\n",
    "Because you are very thorough, you decided to test two different RNA library preparation method for each RNA sample: \n",
    "1. Ribo : ribosomal RNA depletion\n",
    "2. Poly : polyA enrichment\n",
    "\n",
    "Further, since you are a stickler for reproducible results, each individual condition was tested with 4 replicates.\n",
    "\n",
    "\n",
    "__Question__<br>\n",
    "Now you want to use PCA to test if the differences in gene expression that you are observing correlate with the biological origin of the samples, or the RNA library preparation method."
   ]
  },
  {
   "cell_type": "markdown",
   "id": "ab4e735c-47c6-4d71-9178-85bee3ec1c89",
   "metadata": {},
   "source": [
    "<font color=\"crimson\"> <b> <i>EXERCISE : </i></b>\n",
    "    If RNA expression differences are primarily due to biological origin, what result would you expect from the PCA? <br>\n",
    "    (a) The axis of greatest variance PC1 will separate UHR and BHR samples irrespective of library prep method.<br>\n",
    "    (b) The axis of greatest variance PC1 will separate Ribo and Poly samples irrespective of tissue origin <br>\n",
    "    Type your answer in the chat.\n",
    "</font> "
   ]
  },
  {
   "cell_type": "markdown",
   "id": "451ad3de-35bd-462c-9f55-8add28d8b919",
   "metadata": {},
   "source": [
    "## II. Data analysis\n",
    "\n",
    "### __Explore the data__\n",
    "1. Load required packages\n",
    "2. Import the file `rna_uncorrected.csv`\n",
    "3. Find out the number of observations and features in this data"
   ]
  },
  {
   "cell_type": "code",
   "execution_count": 87,
   "id": "3061d1c0-8d21-47da-8355-22f578543772",
   "metadata": {},
   "outputs": [],
   "source": [
    "# First, let's set up our enviroment\n",
    "# Load packages\n",
    "import numpy as np\n",
    "import pandas as pd\n",
    "import matplotlib.pyplot as plt\n",
    "import seaborn  as sns\n",
    "from pathlib import Path\n",
    "\n",
    "# figure settings\n",
    "sns.set_context('notebook', font_scale=1.2)"
   ]
  },
  {
   "cell_type": "code",
   "execution_count": 88,
   "id": "2bc63772-310b-4c6d-9c8c-83c8f5bdd79a",
   "metadata": {},
   "outputs": [],
   "source": [
    "rna_data = pd.read_csv('rna_uncorrected.csv', index_col=0)"
   ]
  },
  {
   "cell_type": "markdown",
   "id": "d784b917-4d3a-478f-b2b9-fc44be5018d6",
   "metadata": {},
   "source": [
    "<font color=\"crimson\"> <b> <i>EXERCISE : </i></b>\n",
    "How many features, and how many observations are present in this data?\n",
    "</font> "
   ]
  },
  {
   "cell_type": "code",
   "execution_count": 69,
   "id": "807f715d-1912-4132-8422-ac61c8c76a42",
   "metadata": {},
   "outputs": [],
   "source": [
    "# hint : use the `shape` attribute of dataframes\n"
   ]
  },
  {
   "cell_type": "markdown",
   "id": "665ef472-94c4-4ddf-82b9-60ef4747e56a",
   "metadata": {},
   "source": [
    "### __Perform PCA__\n",
    "1. Import the PCA object from sklearn\n",
    "2. Initialize PCA object with 2 dimensions\n",
    "3. Project the data into PCA space"
   ]
  },
  {
   "cell_type": "markdown",
   "id": "8eb2640b-3075-40de-b6a2-a162f9a40082",
   "metadata": {},
   "source": [
    "<font color=\"crimson\"> <b> <i>EXERCISE : </i></b>\n",
    "Perform PCA using the above steps</font> "
   ]
  },
  {
   "cell_type": "code",
   "execution_count": null,
   "id": "fb24cbf0-da49-46bf-9d28-e2767ae3a3b0",
   "metadata": {},
   "outputs": [],
   "source": [
    "# import PCA class objects from sklearn\n"
   ]
  },
  {
   "cell_type": "code",
   "execution_count": null,
   "id": "203d5d12-95c8-4a21-b040-3c635a25bbcc",
   "metadata": {},
   "outputs": [],
   "source": [
    "# initialize a pca object with 2 dimensions\n"
   ]
  },
  {
   "cell_type": "code",
   "execution_count": 76,
   "id": "965102d1-0595-4a44-ba57-f56222f441fd",
   "metadata": {},
   "outputs": [],
   "source": [
    "# perform PCA projection\n",
    "projected_data = "
   ]
  },
  {
   "cell_type": "code",
   "execution_count": null,
   "id": "68d053e1-0a82-4106-b468-72cb10165d4f",
   "metadata": {},
   "outputs": [],
   "source": [
    "# create a dataframe for ease of data manipulation\n",
    "projected_df = pd.DataFrame(data = projected_data, columns=['PC1', 'PC2'])\n",
    "projected_df.head()"
   ]
  },
  {
   "cell_type": "markdown",
   "id": "69ac8a64-8393-4ae8-998b-70e5d63988e3",
   "metadata": {},
   "source": [
    "### __How \"good\" is your PCA__\n",
    "<font color=\"crimson\"> <b> <i>EXERCISE : </i></b> <br>\n",
    "    Print the explained variance ratio for each PC<br>\n",
    "    Print the total variance explained by both PCs <br>\n",
    "    Plot a barplot of these values\n",
    "</font> "
   ]
  },
  {
   "cell_type": "code",
   "execution_count": 94,
   "id": "492d48cd-8d7c-4c3e-b2a4-892dc82e6be0",
   "metadata": {},
   "outputs": [],
   "source": [
    "# print explained variance for each PC\n"
   ]
  },
  {
   "cell_type": "code",
   "execution_count": 103,
   "id": "86e9fe42-efe5-4cc0-9b7f-644890cd9402",
   "metadata": {},
   "outputs": [],
   "source": [
    "# print total explained variance for all PCs\n"
   ]
  },
  {
   "cell_type": "code",
   "execution_count": null,
   "id": "db09a368-b90c-4fe1-96e4-0dc4addf10dc",
   "metadata": {},
   "outputs": [],
   "source": [
    "# barplot of the explained variance ratios\n",
    "plt.figure()\n",
    "plt.bar(x = ['PC1', 'PC2'], \n",
    "        height =          ,  # hint : height should be variance explained by each PC\n",
    "        color = 'lightgrey')\n",
    "plt.plot(['PC1', 'PC2'], np.cumsum(pca.explained_variance_ratio_), 'r-o', linewidth=1)\n",
    "plt.ylim([0,1.05])\n",
    "plt.ylabel('Explained Variance Ratio');\n",
    "plt.title('Explained Variance', y=1.05)\n",
    "plt.show()"
   ]
  },
  {
   "cell_type": "markdown",
   "id": "207dec93-f1aa-4632-aa75-ddc1d93afbf0",
   "metadata": {},
   "source": [
    "<font color=\"crimson\"> <b> <i>EXERCISE : </i></b>\n",
    "Is the PCA model with 2 dimensions a good representation of the data? Why or why not. <br>Type your answer in the chat.\n",
    "</font>"
   ]
  },
  {
   "cell_type": "markdown",
   "id": "dcbd709d-d15c-42a0-ab1d-7cc8aa4b14ff",
   "metadata": {},
   "source": [
    "### __Visualize your results__\n",
    "<font color=\"crimson\"> <b> <i>EXERCISE : </i></b>\n",
    "Plot the data after PCA transformation</font> "
   ]
  },
  {
   "cell_type": "code",
   "execution_count": 78,
   "id": "29980088-db6a-41d8-be79-1fae387f5cc4",
   "metadata": {},
   "outputs": [],
   "source": [
    "# First lets add identifiers to the projected data\n",
    "projected_df['origin'] = [\"UHR\", \"UHR\", \"UHR\", \"UHR\", \"HBR\", \"HBR\", \"HBR\", \"HBR\", \"UHR\", \"UHR\", \"UHR\", \"UHR\", \"HBR\", \"HBR\", \"HBR\", \"HBR\"]\n",
    "projected_df['prep'] =  [\"Ribo\", \"Ribo\", \"Ribo\", \"Ribo\", \"Ribo\", \"Ribo\", \"Ribo\", \"Ribo\", \"Poly\", \"Poly\", \"Poly\", \"Poly\", \"Poly\", \"Poly\", \"Poly\", \"Poly\"]\n",
    "projected_df['replicate'] = [1, 2, 3, 4, 1, 2, 3, 4, 1, 2, 3, 4, 1, 2, 3, 4]"
   ]
  },
  {
   "cell_type": "code",
   "execution_count": null,
   "id": "406a2e78-b6fd-48f8-ac39-99f6535eb729",
   "metadata": {},
   "outputs": [],
   "source": [
    "# plot your results here\n",
    "plt.figure()\n",
    "sns.scatterplot(data = , \n",
    "                x = , \n",
    "                y = )\n",
    "plt.title('PCA projection', y=1.05)\n",
    "plt.show()"
   ]
  },
  {
   "cell_type": "code",
   "execution_count": null,
   "id": "c81238ff-0bcc-4f2e-99e3-18231cf8281a",
   "metadata": {},
   "outputs": [],
   "source": [
    "# now distinguish samples by origin and library prep method\n",
    "plt.figure()\n",
    "sns.scatterplot(data = , \n",
    "                x = , \n",
    "                y = ,\n",
    "                hue= 'origin', # color by tissue origin\n",
    "                size='prep')   # size depends on library method prep\n",
    "plt.legend(bbox_to_anchor=(-0.1,1)) # repoisiton the legend outside plot area\n",
    "plt.title('PCA projection', y=1.05)\n",
    "plt.show()"
   ]
  },
  {
   "cell_type": "markdown",
   "id": "1b219491-770d-4954-b894-5f1d243b32b8",
   "metadata": {},
   "source": [
    "<font color=\"crimson\"> <b> <i>EXERCISE : </i></b>\n",
    "How will you diagnose the results? Are samples separated by biological origin or method of library preparation? Type your answer in the chat.\n",
    "    <br>\n",
    "    <font color=\"blue\">Hint: Remember PC1 is the axis of largest variance/information</font>\n",
    "</font>"
   ]
  },
  {
   "cell_type": "code",
   "execution_count": null,
   "id": "34afd4da-7961-408a-b9e9-8f5caee73040",
   "metadata": {},
   "outputs": [],
   "source": [
    "# replot the data with PC axes scaled correctly to better estimate distances\n",
    "plt.figure()\n",
    "sns.scatterplot(data = ,\n",
    "                x = ,\n",
    "                y = ,\n",
    "                hue= 'origin', # color by tissue origin\n",
    "                size='prep')   # size depends on library method prep\n",
    "plt.legend(bbox_to_anchor=(-0.2,1)) # repoisiton the legend outside plot area\n",
    "plt.title('PCA projection', y=1.05)\n",
    "plt.axis('equal') # axes scaled correctly relative to each other\n",
    "plt.show()"
   ]
  },
  {
   "cell_type": "markdown",
   "id": "b7ed9ece-0ee7-45d4-8114-060308d01650",
   "metadata": {
    "tags": []
   },
   "source": [
    "### __Which genes load heavily onto PC1?__\n",
    "<font color=\"crimson\"> <b> <i>BONUS EXERCISE : </i></b> <br>\n",
    "    Find the gene with the highest loading onto PC1\n",
    "</font> "
   ]
  },
  {
   "cell_type": "code",
   "execution_count": null,
   "id": "637b2c33-dce9-4b8f-bf56-4d30563d6ec1",
   "metadata": {},
   "outputs": [],
   "source": [
    "# hint : find the maximum absolute value of the coefficients for PC1\n",
    "max(abs(pca.components_[0]))"
   ]
  },
  {
   "cell_type": "code",
   "execution_count": null,
   "id": "51e073cd-44c1-4e12-8e34-1839164e76f6",
   "metadata": {},
   "outputs": [],
   "source": [
    "# find the index of this value\n",
    "index = np.argmax((abs(pca.components_[0])))\n",
    "index"
   ]
  },
  {
   "cell_type": "code",
   "execution_count": null,
   "id": "ea49a715-921f-4ffd-b734-61fa95fb7ef2",
   "metadata": {},
   "outputs": [],
   "source": [
    "# find the gene for this index\n",
    "rna_data.columns[index]"
   ]
  },
  {
   "cell_type": "markdown",
   "id": "83d45acf-a78d-4594-b3c0-89ab15d14bae",
   "metadata": {},
   "source": [
    "## III. Does batch correction help?\n",
    "<font color=\"crimson\"> <b> <i>BONUS EXERCISE : </i></b> <br>\n",
    "    Import the dataset `rna_corrected.csv` which has been put through batch correction algorithms, and infer whether batch correction reduced the impact of library prep methods on the final data.\n",
    "</font> "
   ]
  },
  {
   "cell_type": "code",
   "execution_count": 140,
   "id": "e1c1ca19-6f0a-432e-9c30-3c93d3b24052",
   "metadata": {},
   "outputs": [],
   "source": [
    "rna_data_corrected = pd.read_csv('rna_corrected.csv', index_col=0)"
   ]
  },
  {
   "cell_type": "code",
   "execution_count": null,
   "id": "89490691-be4f-4fd5-af54-bdd715e154de",
   "metadata": {},
   "outputs": [],
   "source": []
  }
 ],
 "metadata": {
  "kernelspec": {
   "display_name": "Python 3 (ipykernel)",
   "language": "python",
   "name": "python3"
  },
  "language_info": {
   "codemirror_mode": {
    "name": "ipython",
    "version": 3
   },
   "file_extension": ".py",
   "mimetype": "text/x-python",
   "name": "python",
   "nbconvert_exporter": "python",
   "pygments_lexer": "ipython3",
   "version": "3.8.0"
  },
  "toc-autonumbering": false
 },
 "nbformat": 4,
 "nbformat_minor": 5
}
